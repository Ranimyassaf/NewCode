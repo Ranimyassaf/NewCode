{
  "nbformat": 4,
  "nbformat_minor": 0,
  "metadata": {
    "colab": {
      "provenance": [],
      "authorship_tag": "ABX9TyMPcpBYEvkS62cE7ie3h4Bi",
      "include_colab_link": true
    },
    "kernelspec": {
      "name": "python3",
      "display_name": "Python 3"
    },
    "language_info": {
      "name": "python"
    }
  },
  "cells": [
    {
      "cell_type": "markdown",
      "metadata": {
        "id": "view-in-github",
        "colab_type": "text"
      },
      "source": [
        "<a href=\"https://colab.research.google.com/github/Ranimyassaf/NewCode/blob/main/Untitled0.ipynb\" target=\"_parent\"><img src=\"https://colab.research.google.com/assets/colab-badge.svg\" alt=\"Open In Colab\"/></a>"
      ]
    },
    {
      "cell_type": "code",
      "execution_count": null,
      "metadata": {
        "id": "NKqstuQQRYGN"
      },
      "outputs": [],
      "source": []
    },
    {
      "cell_type": "code",
      "source": [
        "import torch\n",
        "import torch.nn as nn\n",
        "import torch.nn.functional as F\n",
        "from torch.optim import SGD"
      ],
      "metadata": {
        "id": "ptD6EIOAWz3q"
      },
      "execution_count": 3,
      "outputs": []
    },
    {
      "cell_type": "code",
      "source": [
        "class FirstNN(nn.Module):\n",
        "  def __init__(self):\n",
        "    super().__init__()\n",
        "    self.w00 = nn.Parameter(torch.tensor(1.1),requires_grad=False)\n",
        "    self.b00 = nn.Parameter(torch.tensor(-0.5),requires_grad=False)\n",
        "\n",
        "    self.w01 = nn.Parameter(torch.tensor(0.6),requires_grad=False)\n",
        "    self.b01 = nn.Parameter(torch.tensor(-1.5),requires_grad=False)\n",
        "\n",
        "    self.w02 = nn.Parameter(torch.tensor(0.5),requires_grad=False)\n",
        "    self.b02 = nn.Parameter(torch.tensor(0.65),requires_grad=False)\n",
        "\n",
        "    self.w11 = nn.Parameter(torch.tensor(1.55),requires_grad=False)\n",
        "    self.w12 = nn.Parameter(torch.tensor(-0.7),requires_grad=False)\n",
        "    self.w13 = nn.Parameter(torch.tensor(1.22),requires_grad=False)\n",
        "\n",
        "    self.w20 = nn.Parameter(torch.tensor(1.6),requires_grad=False)\n",
        "\n",
        "  def forward(self,input):\n",
        "    input_to_layer_01 = input * self.w00 + self.b00\n",
        "    layer_01_output = F.relu(input_to_layer_01)\n",
        "    layer_01_output = layer_01_output * self.w11"
      ],
      "metadata": {
        "id": "cx6cA7X7ZY0l"
      },
      "execution_count": null,
      "outputs": []
    }
  ]
}